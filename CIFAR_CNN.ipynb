{
  "nbformat": 4,
  "nbformat_minor": 0,
  "metadata": {
    "colab": {
      "name": "CIFAR_CNN.ipynb",
      "version": "0.3.2",
      "provenance": [],
      "collapsed_sections": [],
      "toc_visible": true,
      "include_colab_link": true
    },
    "language_info": {
      "codemirror_mode": {
        "name": "ipython",
        "version": 3
      },
      "file_extension": ".py",
      "mimetype": "text/x-python",
      "name": "python",
      "nbconvert_exporter": "python",
      "pygments_lexer": "ipython3",
      "version": "3.6.7"
    },
    "kernelspec": {
      "name": "python3",
      "display_name": "Python 3"
    },
    "accelerator": "GPU"
  },
  "cells": [
    {
      "cell_type": "markdown",
      "metadata": {
        "id": "view-in-github",
        "colab_type": "text"
      },
      "source": [
        "<a href=\"https://colab.research.google.com/github/razorblazer98/faceRegconition/blob/master/CIFAR_CNN.ipynb\" target=\"_parent\"><img src=\"https://colab.research.google.com/assets/colab-badge.svg\" alt=\"Open In Colab\"/></a>"
      ]
    },
    {
      "cell_type": "markdown",
      "metadata": {
        "id": "yvSP_uBWWZyY",
        "colab_type": "text"
      },
      "source": [
        "# PREPROCESS: "
      ]
    },
    {
      "cell_type": "code",
      "metadata": {
        "id": "_3SmGdRdWZyb",
        "colab_type": "code",
        "colab": {}
      },
      "source": [
        "import pickle\n",
        "import matplotlib.pyplot as plt\n",
        "import random\n",
        "\n",
        "%matplotlib inline"
      ],
      "execution_count": 0,
      "outputs": []
    },
    {
      "cell_type": "code",
      "metadata": {
        "id": "Dq0cTYuM5A3k",
        "colab_type": "code",
        "outputId": "df683b49-ef27-4cfa-f008-033744640357",
        "colab": {
          "base_uri": "https://localhost:8080/",
          "height": 210
        }
      },
      "source": [
        "!wget https://www.cs.toronto.edu/~kriz/cifar-10-python.tar.gz"
      ],
      "execution_count": 2,
      "outputs": [
        {
          "output_type": "stream",
          "text": [
            "--2019-06-13 09:33:06--  https://www.cs.toronto.edu/~kriz/cifar-10-python.tar.gz\n",
            "Resolving www.cs.toronto.edu (www.cs.toronto.edu)... 128.100.3.30\n",
            "Connecting to www.cs.toronto.edu (www.cs.toronto.edu)|128.100.3.30|:443... connected.\n",
            "HTTP request sent, awaiting response... 200 OK\n",
            "Length: 170498071 (163M) [application/x-gzip]\n",
            "Saving to: ‘cifar-10-python.tar.gz.2’\n",
            "\n",
            "cifar-10-python.tar 100%[===================>] 162.60M  93.5MB/s    in 1.7s    \n",
            "\n",
            "2019-06-13 09:33:08 (93.5 MB/s) - ‘cifar-10-python.tar.gz.2’ saved [170498071/170498071]\n",
            "\n"
          ],
          "name": "stdout"
        }
      ]
    },
    {
      "cell_type": "code",
      "metadata": {
        "id": "AX1ZGHq55d6v",
        "colab_type": "code",
        "colab": {}
      },
      "source": [
        "!tar -xf cifar-10-python.tar.gz cifar-10-batches-py"
      ],
      "execution_count": 0,
      "outputs": []
    },
    {
      "cell_type": "code",
      "metadata": {
        "id": "sKsHB-l1WZyh",
        "colab_type": "code",
        "colab": {}
      },
      "source": [
        "def unpickle(file):\n",
        "    import pickle\n",
        "    with open(file, 'rb') as fo:\n",
        "        dict = pickle.load(fo, encoding='bytes')\n",
        "    return dict"
      ],
      "execution_count": 0,
      "outputs": []
    },
    {
      "cell_type": "code",
      "metadata": {
        "id": "g2iaJQwC6OZC",
        "colab_type": "code",
        "outputId": "7a4ea249-587a-4392-b5b6-d0b6517fb143",
        "colab": {
          "base_uri": "https://localhost:8080/",
          "height": 70
        }
      },
      "source": [
        "!cd cifar-10-batches-py\n",
        "%cd cifar-10-batches-py\n",
        "!ls"
      ],
      "execution_count": 5,
      "outputs": [
        {
          "output_type": "stream",
          "text": [
            "/content/cifar-10-batches-py\n",
            "batches.meta  data_batch_2  data_batch_4  my_CIFAR     test_batch\n",
            "data_batch_1  data_batch_3  data_batch_5  readme.html\n"
          ],
          "name": "stdout"
        }
      ]
    },
    {
      "cell_type": "code",
      "metadata": {
        "id": "Oz0sd3v4WZyl",
        "colab_type": "code",
        "colab": {}
      },
      "source": [
        "test=unpickle(\"data_batch_1\")\n",
        "label_mapping=unpickle(\"batches.meta\")\n",
        "\n",
        "test=unpickle(\"data_batch_1\")\n",
        "test2=unpickle(\"data_batch_2\")\n",
        "test3=unpickle(\"data_batch_3\")\n",
        "test4=unpickle(\"data_batch_5\")\n",
        "test5=unpickle(\"data_batch_5\")\n"
      ],
      "execution_count": 0,
      "outputs": []
    },
    {
      "cell_type": "code",
      "metadata": {
        "id": "cc9oksRBWZyp",
        "colab_type": "code",
        "colab": {}
      },
      "source": [
        "label_mapping=[x.decode(\"utf-8\") for x in list(label_mapping.items())[1][1]]\n",
        "labels=list(test.items())[1][1]\n",
        "labels2=list(test2.items())[1][1]\n",
        "labels3=list(test3.items())[1][1]\n",
        "labels4=list(test4.items())[1][1]\n",
        "labels5=list(test5.items())[1][1]\n",
        "\n",
        "label_dict={x:y for x,y in zip(range(10),label_mapping)}\n"
      ],
      "execution_count": 0,
      "outputs": []
    },
    {
      "cell_type": "code",
      "metadata": {
        "id": "hCI6ajvcWZyt",
        "colab_type": "code",
        "colab": {}
      },
      "source": [
        "images=list(test.items())[2][1]\n",
        "images2=list(test2.items())[2][1]\n",
        "images3=list(test3.items())[2][1]\n",
        "images4=list(test4.items())[2][1]\n",
        "images5=list(test5.items())[2][1]\n",
        "\n",
        "\n",
        "\n",
        "#Display Random Images\n",
        "\n",
        "def disp_img():    \n",
        "    \n",
        "    plt.figure()\n",
        "\n",
        "    for i in range(4):\n",
        "        ind = random.randint(0,100)\n",
        "        test_img=images[ind]\n",
        "        test_img=test_img.reshape((3,32,32)).transpose(1, 2, 0)\n",
        "        plt.subplot(2,2,i+1)\n",
        "        plt.title(label_dict[labels[ind]])\n",
        "        plt.imshow(test_img)\n",
        "\n",
        "    plt.show()\n",
        "\n",
        "    "
      ],
      "execution_count": 0,
      "outputs": []
    },
    {
      "cell_type": "code",
      "metadata": {
        "id": "JZkE_L_lWZyx",
        "colab_type": "code",
        "outputId": "60b2cc07-8032-4974-f3ea-c43e5e0899dd",
        "colab": {
          "base_uri": "https://localhost:8080/",
          "height": 34
        }
      },
      "source": [
        "len(labels)"
      ],
      "execution_count": 9,
      "outputs": [
        {
          "output_type": "execute_result",
          "data": {
            "text/plain": [
              "10000"
            ]
          },
          "metadata": {
            "tags": []
          },
          "execution_count": 9
        }
      ]
    },
    {
      "cell_type": "code",
      "metadata": {
        "id": "5Lz_nxaQWZy4",
        "colab_type": "code",
        "outputId": "9cf50f63-54ac-47ee-a1f6-fa3a9c977664",
        "colab": {
          "base_uri": "https://localhost:8080/",
          "height": 281
        }
      },
      "source": [
        "disp_img()"
      ],
      "execution_count": 10,
      "outputs": [
        {
          "output_type": "display_data",
          "data": {
            "image/png": "[encoded data removed]",
            "text/plain": [
              "<Figure size 432x288 with 4 Axes>"
            ]
          },
          "metadata": {
            "tags": []
          }
        }
      ]
    },
    {
      "cell_type": "markdown",
      "metadata": {
        "id": "BiMdUnK7WZy-",
        "colab_type": "text"
      },
      "source": [
        "# CNN:"
      ]
    },
    {
      "cell_type": "code",
      "metadata": {
        "id": "ShMCfelbWZy_",
        "colab_type": "code",
        "outputId": "895cd378-234a-46c4-d0a2-a50320e2cddb",
        "colab": {
          "base_uri": "https://localhost:8080/",
          "height": 34
        }
      },
      "source": [
        "import tensorflow as tf\n",
        "from tensorflow.keras.layers import *\n",
        "import numpy as np\n",
        "tf.test.gpu_device_name()"
      ],
      "execution_count": 11,
      "outputs": [
        {
          "output_type": "execute_result",
          "data": {
            "text/plain": [
              "'/device:GPU:0'"
            ]
          },
          "metadata": {
            "tags": []
          },
          "execution_count": 11
        }
      ]
    },
    {
      "cell_type": "code",
      "metadata": {
        "id": "RZPvhEk1WZzK",
        "colab_type": "code",
        "colab": {
          "base_uri": "https://localhost:8080/",
          "height": 142
        },
        "outputId": "7e8213e8-4e10-48da-d462-a3b73d3cce30"
      },
      "source": [
        "model = tf.keras.Sequential()\n",
        "model.add(Conv2D(32, (3, 3), activation='relu', kernel_initializer='he_uniform', padding='same', input_shape=(32, 32, 3)))\n",
        "model.add(BatchNormalization())\n",
        "\n",
        "\n",
        "model.add(Conv2D(32, (3, 3), activation='relu', kernel_initializer='he_uniform', padding='same'))\n",
        "model.add(BatchNormalization())\n",
        "\n",
        "model.add(Conv2D(64, (3, 3), activation='relu', kernel_initializer='he_uniform', padding='same'))\n",
        "model.add(BatchNormalization())\n",
        "\n",
        "\n",
        "model.add(Conv2D(128, (3, 3), activation='relu', kernel_initializer='he_uniform', padding='same'))\n",
        "model.add(BatchNormalization())\n",
        "model.add(MaxPooling2D((2, 2)))\n",
        "\n",
        "model.add(Conv2D(128, (3, 3), activation='relu', kernel_initializer='he_uniform', padding='same'))\n",
        "model.add(BatchNormalization())\n",
        "model.add(MaxPooling2D((2, 2)))\n",
        "\n",
        "model.add(Flatten())\n",
        "model.add(Dropout(rate=0.5))\n",
        "model.add(Dense(128, activation='relu', kernel_initializer='he_uniform'))\n",
        "\n",
        "model.add(Dense(10, activation='softmax'))"
      ],
      "execution_count": 12,
      "outputs": [
        {
          "output_type": "stream",
          "text": [
            "WARNING:tensorflow:From /usr/local/lib/python3.6/dist-packages/tensorflow/python/ops/resource_variable_ops.py:435: colocate_with (from tensorflow.python.framework.ops) is deprecated and will be removed in a future version.\n",
            "Instructions for updating:\n",
            "Colocations handled automatically by placer.\n",
            "WARNING:tensorflow:From /usr/local/lib/python3.6/dist-packages/tensorflow/python/keras/layers/core.py:143: calling dropout (from tensorflow.python.ops.nn_ops) with keep_prob is deprecated and will be removed in a future version.\n",
            "Instructions for updating:\n",
            "Please use `rate` instead of `keep_prob`. Rate should be set to `rate = 1 - keep_prob`.\n"
          ],
          "name": "stdout"
        }
      ]
    },
    {
      "cell_type": "code",
      "metadata": {
        "id": "WqX1gNaJWZzR",
        "colab_type": "code",
        "colab": {}
      },
      "source": [
        "opt = tf.keras.optimizers.SGD(lr=0.001, momentum=0.9)\n",
        "model.compile(optimizer=opt,loss='categorical_crossentropy',metrics=['accuracy'])"
      ],
      "execution_count": 0,
      "outputs": []
    },
    {
      "cell_type": "code",
      "metadata": {
        "id": "_4Z2TfJDWZzV",
        "colab_type": "code",
        "outputId": "390005e0-d5dc-4740-d32d-99888974b74d",
        "colab": {
          "base_uri": "https://localhost:8080/",
          "height": 703
        }
      },
      "source": [
        "model.summary()"
      ],
      "execution_count": 14,
      "outputs": [
        {
          "output_type": "stream",
          "text": [
            "_________________________________________________________________\n",
            "Layer (type)                 Output Shape              Param #   \n",
            "=================================================================\n",
            "conv2d (Conv2D)              (None, 32, 32, 32)        896       \n",
            "_________________________________________________________________\n",
            "batch_normalization_v1 (Batc (None, 32, 32, 32)        128       \n",
            "_________________________________________________________________\n",
            "conv2d_1 (Conv2D)            (None, 32, 32, 32)        9248      \n",
            "_________________________________________________________________\n",
            "batch_normalization_v1_1 (Ba (None, 32, 32, 32)        128       \n",
            "_________________________________________________________________\n",
            "conv2d_2 (Conv2D)            (None, 32, 32, 64)        18496     \n",
            "_________________________________________________________________\n",
            "batch_normalization_v1_2 (Ba (None, 32, 32, 64)        256       \n",
            "_________________________________________________________________\n",
            "conv2d_3 (Conv2D)            (None, 32, 32, 128)       73856     \n",
            "_________________________________________________________________\n",
            "batch_normalization_v1_3 (Ba (None, 32, 32, 128)       512       \n",
            "_________________________________________________________________\n",
            "max_pooling2d (MaxPooling2D) (None, 16, 16, 128)       0         \n",
            "_________________________________________________________________\n",
            "conv2d_4 (Conv2D)            (None, 16, 16, 128)       147584    \n",
            "_________________________________________________________________\n",
            "batch_normalization_v1_4 (Ba (None, 16, 16, 128)       512       \n",
            "_________________________________________________________________\n",
            "max_pooling2d_1 (MaxPooling2 (None, 8, 8, 128)         0         \n",
            "_________________________________________________________________\n",
            "flatten (Flatten)            (None, 8192)              0         \n",
            "_________________________________________________________________\n",
            "dropout (Dropout)            (None, 8192)              0         \n",
            "_________________________________________________________________\n",
            "dense (Dense)                (None, 128)               1048704   \n",
            "_________________________________________________________________\n",
            "dense_1 (Dense)              (None, 10)                1290      \n",
            "=================================================================\n",
            "Total params: 1,301,610\n",
            "Trainable params: 1,300,842\n",
            "Non-trainable params: 768\n",
            "_________________________________________________________________\n"
          ],
          "name": "stdout"
        }
      ]
    },
    {
      "cell_type": "code",
      "metadata": {
        "id": "CetaOp4CWZza",
        "colab_type": "code",
        "colab": {}
      },
      "source": [
        "X=images.reshape(10000,3,32,32).transpose(0,2,3,1)\n",
        "X2=images2.reshape(10000,3,32,32).transpose(0,2,3,1)\n",
        "X3=images3.reshape(10000,3,32,32).transpose(0,2,3,1)\n",
        "X4=images4.reshape(10000,3,32,32).transpose(0,2,3,1)\n",
        "X5=images5.reshape(10000,3,32,32).transpose(0,2,3,1)\n",
        "\n",
        "Xtrain=np.concatenate((X,X2,X3,X4,X5))\n",
        "\n",
        "\n",
        "#Ytrain=tf.one_hot(labels,depth=10)\n",
        "Ytrain=labels\n"
      ],
      "execution_count": 0,
      "outputs": []
    },
    {
      "cell_type": "code",
      "metadata": {
        "id": "Pxpn5YWVigLk",
        "colab_type": "code",
        "colab": {}
      },
      "source": [
        "Ytrain.extend(labels2)\n",
        "Ytrain.extend(labels3)\n",
        "Ytrain.extend(labels4)\n",
        "Ytrain.extend(labels5)\n",
        "\n",
        "\n",
        "\n",
        "#Ytrain = np.random.rand(10000)\n",
        "Ytrain= tf.keras.utils.to_categorical(Ytrain)"
      ],
      "execution_count": 0,
      "outputs": []
    },
    {
      "cell_type": "code",
      "metadata": {
        "id": "LmEbhb7nWZze",
        "colab_type": "code",
        "colab": {}
      },
      "source": [
        "Xtrain=Xtrain/255"
      ],
      "execution_count": 0,
      "outputs": []
    },
    {
      "cell_type": "code",
      "metadata": {
        "id": "AdGJrl2pWZzg",
        "colab_type": "code",
        "outputId": "dda958fe-4bd2-4ee0-e7a4-60da5887131a",
        "colab": {
          "base_uri": "https://localhost:8080/",
          "height": 34
        }
      },
      "source": [
        "np.shape(Xtrain)"
      ],
      "execution_count": 18,
      "outputs": [
        {
          "output_type": "execute_result",
          "data": {
            "text/plain": [
              "(50000, 32, 32, 3)"
            ]
          },
          "metadata": {
            "tags": []
          },
          "execution_count": 18
        }
      ]
    },
    {
      "cell_type": "code",
      "metadata": {
        "id": "wVb8VoLuWZzk",
        "colab_type": "code",
        "outputId": "7ebff8b7-3bab-49d2-cb2a-682e0f89d558",
        "colab": {
          "base_uri": "https://localhost:8080/",
          "height": 34
        }
      },
      "source": [
        "np.shape(Ytrain)"
      ],
      "execution_count": 19,
      "outputs": [
        {
          "output_type": "execute_result",
          "data": {
            "text/plain": [
              "(50000, 10)"
            ]
          },
          "metadata": {
            "tags": []
          },
          "execution_count": 19
        }
      ]
    },
    {
      "cell_type": "code",
      "metadata": {
        "id": "eB0-gX2bWZzp",
        "colab_type": "code",
        "outputId": "31c10f10-335c-471e-a801-8acffd92a881",
        "colab": {
          "base_uri": "https://localhost:8080/",
          "height": 140
        }
      },
      "source": [
        "Ytrain"
      ],
      "execution_count": 20,
      "outputs": [
        {
          "output_type": "execute_result",
          "data": {
            "text/plain": [
              "array([[0., 0., 0., ..., 0., 0., 0.],\n",
              "       [0., 0., 0., ..., 0., 0., 1.],\n",
              "       [0., 0., 0., ..., 0., 0., 1.],\n",
              "       ...,\n",
              "       [0., 0., 0., ..., 0., 0., 1.],\n",
              "       [0., 1., 0., ..., 0., 0., 0.],\n",
              "       [0., 1., 0., ..., 0., 0., 0.]], dtype=float32)"
            ]
          },
          "metadata": {
            "tags": []
          },
          "execution_count": 20
        }
      ]
    },
    {
      "cell_type": "code",
      "metadata": {
        "id": "mArm23BpWZzw",
        "colab_type": "code",
        "outputId": "969def68-48fe-43a0-b446-ddd8ccd5a8e4",
        "colab": {
          "base_uri": "https://localhost:8080/",
          "height": 811
        }
      },
      "source": [
        "hist=model.fit(x=Xtrain,y=Ytrain,epochs=20,validation_split=0.2,batch_size=100)"
      ],
      "execution_count": 21,
      "outputs": [
        {
          "output_type": "stream",
          "text": [
            "Train on 40000 samples, validate on 10000 samples\n",
            "WARNING:tensorflow:From /usr/local/lib/python3.6/dist-packages/tensorflow/python/ops/math_ops.py:3066: to_int32 (from tensorflow.python.ops.math_ops) is deprecated and will be removed in a future version.\n",
            "Instructions for updating:\n",
            "Use tf.cast instead.\n",
            "Epoch 1/20\n",
            "40000/40000 [==============================] - 17s 434us/sample - loss: 1.7128 - acc: 0.3965 - val_loss: 1.3428 - val_acc: 0.5257\n",
            "Epoch 2/20\n",
            "40000/40000 [==============================] - 15s 373us/sample - loss: 1.3158 - acc: 0.5251 - val_loss: 1.1298 - val_acc: 0.5942\n",
            "Epoch 3/20\n",
            "40000/40000 [==============================] - 15s 377us/sample - loss: 1.1786 - acc: 0.5734 - val_loss: 1.0063 - val_acc: 0.6469\n",
            "Epoch 4/20\n",
            "40000/40000 [==============================] - 15s 381us/sample - loss: 1.0685 - acc: 0.6135 - val_loss: 0.9013 - val_acc: 0.6802\n",
            "Epoch 5/20\n",
            "40000/40000 [==============================] - 15s 376us/sample - loss: 0.9801 - acc: 0.6512 - val_loss: 0.8270 - val_acc: 0.7029\n",
            "Epoch 6/20\n",
            "40000/40000 [==============================] - 15s 376us/sample - loss: 0.9133 - acc: 0.6736 - val_loss: 0.7841 - val_acc: 0.7334\n",
            "Epoch 7/20\n",
            "40000/40000 [==============================] - 15s 376us/sample - loss: 0.8585 - acc: 0.6963 - val_loss: 0.7269 - val_acc: 0.7468\n",
            "Epoch 8/20\n",
            "40000/40000 [==============================] - 15s 376us/sample - loss: 0.8114 - acc: 0.7121 - val_loss: 0.6893 - val_acc: 0.7560\n",
            "Epoch 9/20\n",
            "40000/40000 [==============================] - 15s 378us/sample - loss: 0.7675 - acc: 0.7279 - val_loss: 0.6117 - val_acc: 0.7957\n",
            "Epoch 10/20\n",
            "40000/40000 [==============================] - 15s 376us/sample - loss: 0.7328 - acc: 0.7393 - val_loss: 0.5706 - val_acc: 0.8123\n",
            "Epoch 11/20\n",
            "40000/40000 [==============================] - 15s 377us/sample - loss: 0.6972 - acc: 0.7529 - val_loss: 0.5366 - val_acc: 0.8209\n",
            "Epoch 12/20\n",
            "40000/40000 [==============================] - 15s 375us/sample - loss: 0.6587 - acc: 0.7680 - val_loss: 0.5083 - val_acc: 0.8278\n",
            "Epoch 13/20\n",
            "40000/40000 [==============================] - 15s 376us/sample - loss: 0.6274 - acc: 0.7760 - val_loss: 0.4679 - val_acc: 0.8433\n",
            "Epoch 14/20\n",
            "40000/40000 [==============================] - 15s 376us/sample - loss: 0.5935 - acc: 0.7896 - val_loss: 0.4191 - val_acc: 0.8630\n",
            "Epoch 15/20\n",
            "40000/40000 [==============================] - 15s 377us/sample - loss: 0.5687 - acc: 0.7988 - val_loss: 0.4208 - val_acc: 0.8608\n",
            "Epoch 16/20\n",
            "40000/40000 [==============================] - 15s 377us/sample - loss: 0.5412 - acc: 0.8067 - val_loss: 0.3600 - val_acc: 0.8868\n",
            "Epoch 17/20\n",
            "40000/40000 [==============================] - 15s 376us/sample - loss: 0.5109 - acc: 0.8191 - val_loss: 0.3335 - val_acc: 0.8973\n",
            "Epoch 18/20\n",
            "40000/40000 [==============================] - 15s 376us/sample - loss: 0.4801 - acc: 0.8282 - val_loss: 0.3031 - val_acc: 0.9073\n",
            "Epoch 19/20\n",
            "40000/40000 [==============================] - 15s 375us/sample - loss: 0.4643 - acc: 0.8343 - val_loss: 0.2909 - val_acc: 0.9054\n",
            "Epoch 20/20\n",
            "40000/40000 [==============================] - 15s 376us/sample - loss: 0.4448 - acc: 0.8399 - val_loss: 0.2589 - val_acc: 0.9224\n"
          ],
          "name": "stdout"
        }
      ]
    },
    {
      "cell_type": "code",
      "metadata": {
        "id": "Ait1My6tvSTc",
        "colab_type": "code",
        "outputId": "e6cfa5c3-cfcc-458a-948c-abc7bb0cc539",
        "colab": {
          "base_uri": "https://localhost:8080/",
          "height": 574
        }
      },
      "source": [
        "history=hist\n",
        "\n",
        "# summarize history for accuracy\n",
        "plt.plot(history.history['acc'])\n",
        "plt.plot(history.history['val_acc'])\n",
        "plt.title('model accuracy')\n",
        "plt.ylabel('accuracy')\n",
        "plt.xlabel('epoch')\n",
        "plt.legend(['train', 'val'], loc='upper left')\n",
        "plt.show()\n",
        "# summarize history for loss\n",
        "plt.plot(history.history['loss'])\n",
        "plt.plot(history.history['val_loss'])\n",
        "plt.title('model loss')\n",
        "plt.ylabel('loss')\n",
        "plt.xlabel('epoch')\n",
        "plt.legend(['train', 'val'], loc='upper left')\n",
        "plt.show()"
      ],
      "execution_count": 22,
      "outputs": [
        {
          "output_type": "display_data",
          "data": {
            "image/png": "[encoded data removed]",
            "text/plain": [
              "<Figure size 432x288 with 1 Axes>"
            ]
          },
          "metadata": {
            "tags": []
          }
        },
        {
          "output_type": "display_data",
          "data": {
            "image/png": "[encoded data removed]",
            "text/plain": [
              "<Figure size 432x288 with 1 Axes>"
            ]
          },
          "metadata": {
            "tags": []
          }
        }
      ]
    },
    {
      "cell_type": "markdown",
      "metadata": {
        "id": "n77omms_D7t_",
        "colab_type": "text"
      },
      "source": [
        "**EVALUATE!!!!**"
      ]
    },
    {
      "cell_type": "code",
      "metadata": {
        "id": "5KMd6AMaCwsO",
        "colab_type": "code",
        "colab": {}
      },
      "source": [
        "tes =unpickle(\"test_batch\")\n",
        "Xtest=list(tes.items())[2][1]\n",
        "Xtest=Xtest.reshape(10000,3,32,32).transpose(0,2,3,1)\n"
      ],
      "execution_count": 0,
      "outputs": []
    },
    {
      "cell_type": "code",
      "metadata": {
        "id": "s2ul9F-4HS61",
        "colab_type": "code",
        "colab": {
          "base_uri": "https://localhost:8080/",
          "height": 34
        },
        "outputId": "4f14e7be-845a-44ba-8c84-e52613ae363d"
      },
      "source": [
        "Ytest=list(tes.items())[1][1]\n",
        "len(Ytest)"
      ],
      "execution_count": 24,
      "outputs": [
        {
          "output_type": "execute_result",
          "data": {
            "text/plain": [
              "10000"
            ]
          },
          "metadata": {
            "tags": []
          },
          "execution_count": 24
        }
      ]
    },
    {
      "cell_type": "code",
      "metadata": {
        "id": "vhzWPyMGY1G7",
        "colab_type": "code",
        "colab": {}
      },
      "source": [
        "ypred=model.predict(Xtest)"
      ],
      "execution_count": 0,
      "outputs": []
    },
    {
      "cell_type": "code",
      "metadata": {
        "id": "CiqbytOaIEwk",
        "colab_type": "code",
        "colab": {
          "base_uri": "https://localhost:8080/",
          "height": 34
        },
        "outputId": "99f7eb94-042f-4991-9939-572f72f55ddd"
      },
      "source": [
        "Ytest=tf.keras.utils.to_categorical(Ytest)\n",
        "Ytest\n",
        "dummy=model.evaluate(x=Xtest,y=Ytest)"
      ],
      "execution_count": 26,
      "outputs": [
        {
          "output_type": "stream",
          "text": [
            "10000/10000 [==============================] - 1s 133us/sample - loss: 12.5905 - acc: 0.2089\n"
          ],
          "name": "stdout"
        }
      ]
    },
    {
      "cell_type": "code",
      "metadata": {
        "id": "DHsMZT_xFGu0",
        "colab_type": "code",
        "outputId": "6fafe23c-4326-40a4-ef63-b983709f11f1",
        "colab": {
          "base_uri": "https://localhost:8080/",
          "height": 193
        }
      },
      "source": [
        "label_dict"
      ],
      "execution_count": 27,
      "outputs": [
        {
          "output_type": "execute_result",
          "data": {
            "text/plain": [
              "{0: 'airplane',\n",
              " 1: 'automobile',\n",
              " 2: 'bird',\n",
              " 3: 'cat',\n",
              " 4: 'deer',\n",
              " 5: 'dog',\n",
              " 6: 'frog',\n",
              " 7: 'horse',\n",
              " 8: 'ship',\n",
              " 9: 'truck'}"
            ]
          },
          "metadata": {
            "tags": []
          },
          "execution_count": 27
        }
      ]
    },
    {
      "cell_type": "markdown",
      "metadata": {
        "id": "n6ZLGxoYKPmG",
        "colab_type": "text"
      },
      "source": [
        "**PLOT PREDICTIONS:**"
      ]
    },
    {
      "cell_type": "code",
      "metadata": {
        "id": "C0D--7v8EPNU",
        "colab_type": "code",
        "outputId": "c5983ec2-7857-44b0-9884-3f8e7c6cb327",
        "colab": {
          "base_uri": "https://localhost:8080/",
          "height": 54
        }
      },
      "source": [
        "'''    plt.figure()\n",
        "\n",
        "    for i in range(4):\n",
        "        ind = random.randint(0,100)\n",
        "        test_img=Xtest[ind]\n",
        "        plt.subplot(2,2,i+1)\n",
        "        plt.title(label_dict[ypred[ind].argmax()]+\", \"+label_dict[Ytest[ind].argmax()])\n",
        "        plt.imshow(test_img)\n",
        "\n",
        "    plt.show()'''"
      ],
      "execution_count": 44,
      "outputs": [
        {
          "output_type": "execute_result",
          "data": {
            "text/plain": [
              "'    plt.figure()\\n\\n    for i in range(4):\\n        ind = random.randint(0,100)\\n        test_img=Xtest[ind]\\n        plt.subplot(2,2,i+1)\\n        plt.title(label_dict[ypred[ind].argmax()]+\", \"+label_dict[Ytest[ind].argmax()])\\n        plt.imshow(test_img)\\n\\n    plt.show()'"
            ]
          },
          "metadata": {
            "tags": []
          },
          "execution_count": 44
        }
      ]
    },
    {
      "cell_type": "code",
      "metadata": {
        "id": "oeUM6VZtWDdY",
        "colab_type": "code",
        "colab": {
          "base_uri": "https://localhost:8080/",
          "height": 34
        },
        "outputId": "8352d6ab-d475-4333-e359-16303f512fa3"
      },
      "source": [
        "Xtrain[500].shape"
      ],
      "execution_count": 48,
      "outputs": [
        {
          "output_type": "execute_result",
          "data": {
            "text/plain": [
              "(32, 32, 3)"
            ]
          },
          "metadata": {
            "tags": []
          },
          "execution_count": 48
        }
      ]
    },
    {
      "cell_type": "code",
      "metadata": {
        "id": "MDAWknksNWVo",
        "colab_type": "code",
        "colab": {
          "base_uri": "https://localhost:8080/",
          "height": 447
        },
        "outputId": "ac49fbdb-5c27-4d42-c3eb-9dbc9ac51b9f"
      },
      "source": [
        "plt.figure(figsize=(12,8))\n",
        "\n",
        "for i in range(8):\n",
        "  ind=random.randint(0,10000)\n",
        "  x=Xtrain[ind]\n",
        "  plt.subplot(2,4,i+1)\n",
        "  plt.imshow(x)\n",
        "  \n",
        "  x=np.expand_dims(x, axis=0)\n",
        "  t=model.predict(x)\n",
        "  \n",
        "  plt.title(\"Pred:\" + label_dict[t.argmax()])# + \"\\nActual:\" + label_dict[Ytest[ind].argmax()])\n"
      ],
      "execution_count": 57,
      "outputs": [
        {
          "output_type": "display_data",
          "data": {
            "image/png": "[encoded data removed]",
            "text/plain": [
              "<Figure size 864x576 with 8 Axes>"
            ]
          },
          "metadata": {
            "tags": []
          }
        }
      ]
    }
  ]
}